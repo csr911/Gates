{
  "nbformat": 4,
  "nbformat_minor": 0,
  "metadata": {
    "colab": {
      "provenance": [],
      "authorship_tag": "ABX9TyMRozw1bJDdPz/2GU21RU1p",
      "include_colab_link": true
    },
    "kernelspec": {
      "name": "python3",
      "display_name": "Python 3"
    },
    "language_info": {
      "name": "python"
    }
  },
  "cells": [
    {
      "cell_type": "markdown",
      "metadata": {
        "id": "view-in-github",
        "colab_type": "text"
      },
      "source": [
        "<a href=\"https://colab.research.google.com/github/csr911/Gates/blob/main/Gates.ipynb\" target=\"_parent\"><img src=\"https://colab.research.google.com/assets/colab-badge.svg\" alt=\"Open In Colab\"/></a>"
      ]
    },
    {
      "cell_type": "code",
      "execution_count": null,
      "metadata": {
        "id": "DQsZ_7Qq13bQ"
      },
      "outputs": [],
      "source": [
        "import numpy as np\n",
        "\n",
        "# Define the activation function (step function)\n",
        "def step_function(x):\n",
        "    if x >= 0:\n",
        "        return 1\n",
        "    else:\n",
        "        return 0"
      ]
    },
    {
      "cell_type": "code",
      "source": [
        "# Define the logical functions\n",
        "def logical_NOT(x):\n",
        "    w = np.array([-1]) # Set the weight to -1\n",
        "    b = 0 # Set the bias to 0\n",
        "    x = np.array(x) # Convert the input to a numpy array\n",
        "    z = np.dot(w, x) + b # Calculate the weighted sum\n",
        "    y = step_function(z) # Apply the activation function\n",
        "    return y"
      ],
      "metadata": {
        "id": "4eaHG6Gr19gV"
      },
      "execution_count": null,
      "outputs": []
    },
    {
      "cell_type": "code",
      "source": [
        "def logical_NAND(x):\n",
        "    w = np.array([-1, -1]) # Set the weights to -1\n",
        "    b = 2 # Set the bias to 2\n",
        "    x = np.array(x) # Convert the input to a numpy array\n",
        "    z = np.dot(w, x) + b # Calculate the weighted sum\n",
        "    y = step_function(z) # Apply the activation function\n",
        "    return y"
      ],
      "metadata": {
        "id": "WFIQwKj11-Qq"
      },
      "execution_count": null,
      "outputs": []
    },
    {
      "cell_type": "code",
      "source": [
        "def logical_NOR(x):\n",
        "    w = np.array([-1, -1]) # Set the weights to -1\n",
        "    b = 0 # Set the bias to 0\n",
        "    x = np.array(x) # Convert the input to a numpy array\n",
        "    z = np.dot(w, x) + b # Calculate the weighted sum\n",
        "    y = step_function(z) # Apply the activation function\n",
        "    return y"
      ],
      "metadata": {
        "id": "KMhTncKW2BmK"
      },
      "execution_count": null,
      "outputs": []
    },
    {
      "cell_type": "code",
      "source": [
        "# Test the functions\n",
        "print(logical_NOT(0)) # Should output 1\n",
        "print(logical_NOT(1)) # Should output 0"
      ],
      "metadata": {
        "colab": {
          "base_uri": "https://localhost:8080/"
        },
        "id": "9MFhSSPv2Ej9",
        "outputId": "a0abf7c7-c5c0-44fb-efa8-4342e16eadc4"
      },
      "execution_count": null,
      "outputs": [
        {
          "output_type": "stream",
          "name": "stdout",
          "text": [
            "1\n",
            "0\n"
          ]
        }
      ]
    },
    {
      "cell_type": "code",
      "source": [
        "print(logical_NAND([0, 0])) # Should output 1\n",
        "print(logical_NAND([0, 1])) # Should output 1\n",
        "print(logical_NAND([1, 0])) # Should output 1\n",
        "print(logical_NAND([1, 1])) # Should output 0"
      ],
      "metadata": {
        "colab": {
          "base_uri": "https://localhost:8080/"
        },
        "id": "a2pTSTJh2Hr7",
        "outputId": "f2773b48-87bd-488d-a74f-f9864df04803"
      },
      "execution_count": null,
      "outputs": [
        {
          "output_type": "stream",
          "name": "stdout",
          "text": [
            "1\n",
            "1\n",
            "1\n",
            "1\n"
          ]
        }
      ]
    },
    {
      "cell_type": "code",
      "source": [
        "print(logical_NOR([0, 0])) # Should output 1\n",
        "print(logical_NOR([0, 1])) # Should output 0\n",
        "print(logical_NOR([1, 0])) # Should output 0\n",
        "print(logical_NOR([1, 1])) # Should output 0"
      ],
      "metadata": {
        "colab": {
          "base_uri": "https://localhost:8080/"
        },
        "id": "wjqfTnu32LNv",
        "outputId": "69b9f649-3516-4e99-ca92-c21faa3c5f1b"
      },
      "execution_count": null,
      "outputs": [
        {
          "output_type": "stream",
          "name": "stdout",
          "text": [
            "1\n",
            "0\n",
            "0\n",
            "0\n"
          ]
        }
      ]
    },
    {
      "cell_type": "code",
      "source": [],
      "metadata": {
        "id": "6e6mRU212Plk"
      },
      "execution_count": null,
      "outputs": []
    }
  ]
}